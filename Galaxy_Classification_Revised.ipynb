{
 "cells": [
  {
   "cell_type": "markdown",
   "id": "c50d2f9d",
   "metadata": {},
   "source": [
    "# Galaxy Type Classification using Galaxy10 DECals Dataset\n",
    "This Jupyter Notebook demonstrates the process of building a convolutional neural network to classify types of galaxies using the Galaxy10 DECals dataset from the Hugging Face datasets."
   ]
  },
  {
   "cell_type": "code",
   "execution_count": 1,
   "id": "eb137e12",
   "metadata": {},
   "outputs": [
    {
     "name": "stdout",
     "output_type": "stream",
     "text": [
      "Defaulting to user installation because normal site-packages is not writeable\n",
      "Requirement already satisfied: torch in /home/mateo/.local/lib/python3.10/site-packages (from -r requirements.txt (line 1)) (2.3.0)\n",
      "Requirement already satisfied: datasets in /home/mateo/.local/lib/python3.10/site-packages (from -r requirements.txt (line 2)) (2.19.2)\n",
      "Requirement already satisfied: numpy in /home/mateo/.local/lib/python3.10/site-packages (from -r requirements.txt (line 3)) (1.26.4)\n",
      "Requirement already satisfied: tensorflow in /home/mateo/.local/lib/python3.10/site-packages (from -r requirements.txt (line 4)) (2.16.1)\n",
      "Requirement already satisfied: huggingface_hub in /home/mateo/.local/lib/python3.10/site-packages (from -r requirements.txt (line 5)) (0.23.3)\n",
      "Requirement already satisfied: scikit-learn in /home/mateo/.local/lib/python3.10/site-packages (from -r requirements.txt (line 6)) (1.4.2)\n",
      "Requirement already satisfied: filelock in /home/mateo/.local/lib/python3.10/site-packages (from torch->-r requirements.txt (line 1)) (3.14.0)\n",
      "Requirement already satisfied: nvidia-cudnn-cu12==8.9.2.26 in /home/mateo/.local/lib/python3.10/site-packages (from torch->-r requirements.txt (line 1)) (8.9.2.26)\n",
      "Requirement already satisfied: nvidia-curand-cu12==10.3.2.106 in /home/mateo/.local/lib/python3.10/site-packages (from torch->-r requirements.txt (line 1)) (10.3.2.106)\n",
      "Requirement already satisfied: nvidia-cublas-cu12==12.1.3.1 in /home/mateo/.local/lib/python3.10/site-packages (from torch->-r requirements.txt (line 1)) (12.1.3.1)\n",
      "Requirement already satisfied: nvidia-cusparse-cu12==12.1.0.106 in /home/mateo/.local/lib/python3.10/site-packages (from torch->-r requirements.txt (line 1)) (12.1.0.106)\n",
      "Requirement already satisfied: jinja2 in /home/mateo/.local/lib/python3.10/site-packages (from torch->-r requirements.txt (line 1)) (3.1.4)\n",
      "Requirement already satisfied: nvidia-cuda-cupti-cu12==12.1.105 in /home/mateo/.local/lib/python3.10/site-packages (from torch->-r requirements.txt (line 1)) (12.1.105)\n",
      "Requirement already satisfied: fsspec in /home/mateo/.local/lib/python3.10/site-packages (from torch->-r requirements.txt (line 1)) (2024.3.1)\n",
      "Requirement already satisfied: nvidia-cusolver-cu12==11.4.5.107 in /home/mateo/.local/lib/python3.10/site-packages (from torch->-r requirements.txt (line 1)) (11.4.5.107)\n",
      "Requirement already satisfied: nvidia-cuda-runtime-cu12==12.1.105 in /home/mateo/.local/lib/python3.10/site-packages (from torch->-r requirements.txt (line 1)) (12.1.105)\n",
      "Requirement already satisfied: typing-extensions>=4.8.0 in /home/mateo/.local/lib/python3.10/site-packages (from torch->-r requirements.txt (line 1)) (4.11.0)\n",
      "Requirement already satisfied: nvidia-cufft-cu12==11.0.2.54 in /home/mateo/.local/lib/python3.10/site-packages (from torch->-r requirements.txt (line 1)) (11.0.2.54)\n",
      "Requirement already satisfied: sympy in /home/mateo/.local/lib/python3.10/site-packages (from torch->-r requirements.txt (line 1)) (1.12.1)\n",
      "Requirement already satisfied: nvidia-nccl-cu12==2.20.5 in /home/mateo/.local/lib/python3.10/site-packages (from torch->-r requirements.txt (line 1)) (2.20.5)\n",
      "Requirement already satisfied: nvidia-nvtx-cu12==12.1.105 in /home/mateo/.local/lib/python3.10/site-packages (from torch->-r requirements.txt (line 1)) (12.1.105)\n",
      "Requirement already satisfied: triton==2.3.0 in /home/mateo/.local/lib/python3.10/site-packages (from torch->-r requirements.txt (line 1)) (2.3.0)\n",
      "Requirement already satisfied: networkx in /home/mateo/.local/lib/python3.10/site-packages (from torch->-r requirements.txt (line 1)) (3.3)\n",
      "Requirement already satisfied: nvidia-cuda-nvrtc-cu12==12.1.105 in /home/mateo/.local/lib/python3.10/site-packages (from torch->-r requirements.txt (line 1)) (12.1.105)\n",
      "Requirement already satisfied: nvidia-nvjitlink-cu12 in /home/mateo/.local/lib/python3.10/site-packages (from nvidia-cusolver-cu12==11.4.5.107->torch->-r requirements.txt (line 1)) (12.5.40)\n",
      "Requirement already satisfied: packaging in /home/mateo/.local/lib/python3.10/site-packages (from datasets->-r requirements.txt (line 2)) (24.0)\n",
      "Requirement already satisfied: xxhash in /home/mateo/.local/lib/python3.10/site-packages (from datasets->-r requirements.txt (line 2)) (3.4.1)\n",
      "Requirement already satisfied: dill<0.3.9,>=0.3.0 in /home/mateo/.local/lib/python3.10/site-packages (from datasets->-r requirements.txt (line 2)) (0.3.8)\n",
      "Requirement already satisfied: multiprocess in /home/mateo/.local/lib/python3.10/site-packages (from datasets->-r requirements.txt (line 2)) (0.70.16)\n",
      "Requirement already satisfied: pandas in /home/mateo/.local/lib/python3.10/site-packages (from datasets->-r requirements.txt (line 2)) (2.2.2)\n",
      "Requirement already satisfied: aiohttp in /home/mateo/.local/lib/python3.10/site-packages (from datasets->-r requirements.txt (line 2)) (3.9.5)\n",
      "Requirement already satisfied: pyyaml>=5.1 in /usr/lib/python3/dist-packages (from datasets->-r requirements.txt (line 2)) (5.4.1)\n",
      "Requirement already satisfied: pyarrow>=12.0.0 in /home/mateo/.local/lib/python3.10/site-packages (from datasets->-r requirements.txt (line 2)) (16.1.0)\n",
      "Requirement already satisfied: tqdm>=4.62.1 in /home/mateo/.local/lib/python3.10/site-packages (from datasets->-r requirements.txt (line 2)) (4.66.4)\n",
      "Requirement already satisfied: requests>=2.32.1 in /home/mateo/.local/lib/python3.10/site-packages (from datasets->-r requirements.txt (line 2)) (2.32.3)\n",
      "Requirement already satisfied: pyarrow-hotfix in /home/mateo/.local/lib/python3.10/site-packages (from datasets->-r requirements.txt (line 2)) (0.6)\n",
      "Requirement already satisfied: h5py>=3.10.0 in /home/mateo/.local/lib/python3.10/site-packages (from tensorflow->-r requirements.txt (line 4)) (3.11.0)\n",
      "Requirement already satisfied: google-pasta>=0.1.1 in /home/mateo/.local/lib/python3.10/site-packages (from tensorflow->-r requirements.txt (line 4)) (0.2.0)\n",
      "Requirement already satisfied: astunparse>=1.6.0 in /home/mateo/.local/lib/python3.10/site-packages (from tensorflow->-r requirements.txt (line 4)) (1.6.3)\n",
      "Requirement already satisfied: opt-einsum>=2.3.2 in /home/mateo/.local/lib/python3.10/site-packages (from tensorflow->-r requirements.txt (line 4)) (3.3.0)\n",
      "Requirement already satisfied: setuptools in /usr/lib/python3/dist-packages (from tensorflow->-r requirements.txt (line 4)) (59.6.0)\n",
      "Requirement already satisfied: tensorboard<2.17,>=2.16 in /home/mateo/.local/lib/python3.10/site-packages (from tensorflow->-r requirements.txt (line 4)) (2.16.2)\n",
      "Requirement already satisfied: libclang>=13.0.0 in /home/mateo/.local/lib/python3.10/site-packages (from tensorflow->-r requirements.txt (line 4)) (18.1.1)\n",
      "Requirement already satisfied: termcolor>=1.1.0 in /home/mateo/.local/lib/python3.10/site-packages (from tensorflow->-r requirements.txt (line 4)) (2.4.0)\n",
      "Requirement already satisfied: tensorflow-io-gcs-filesystem>=0.23.1 in /home/mateo/.local/lib/python3.10/site-packages (from tensorflow->-r requirements.txt (line 4)) (0.37.0)\n",
      "Requirement already satisfied: gast!=0.5.0,!=0.5.1,!=0.5.2,>=0.2.1 in /home/mateo/.local/lib/python3.10/site-packages (from tensorflow->-r requirements.txt (line 4)) (0.5.4)\n",
      "Requirement already satisfied: six>=1.12.0 in /usr/lib/python3/dist-packages (from tensorflow->-r requirements.txt (line 4)) (1.16.0)\n",
      "Requirement already satisfied: flatbuffers>=23.5.26 in /home/mateo/.local/lib/python3.10/site-packages (from tensorflow->-r requirements.txt (line 4)) (24.3.25)\n",
      "Requirement already satisfied: ml-dtypes~=0.3.1 in /home/mateo/.local/lib/python3.10/site-packages (from tensorflow->-r requirements.txt (line 4)) (0.3.2)\n",
      "Requirement already satisfied: keras>=3.0.0 in /home/mateo/.local/lib/python3.10/site-packages (from tensorflow->-r requirements.txt (line 4)) (3.3.3)\n",
      "Requirement already satisfied: protobuf!=4.21.0,!=4.21.1,!=4.21.2,!=4.21.3,!=4.21.4,!=4.21.5,<5.0.0dev,>=3.20.3 in /home/mateo/.local/lib/python3.10/site-packages (from tensorflow->-r requirements.txt (line 4)) (4.25.3)\n",
      "Requirement already satisfied: wrapt>=1.11.0 in /home/mateo/.local/lib/python3.10/site-packages (from tensorflow->-r requirements.txt (line 4)) (1.16.0)\n",
      "Requirement already satisfied: grpcio<2.0,>=1.24.3 in /home/mateo/.local/lib/python3.10/site-packages (from tensorflow->-r requirements.txt (line 4)) (1.64.1)\n",
      "Requirement already satisfied: absl-py>=1.0.0 in /home/mateo/.local/lib/python3.10/site-packages (from tensorflow->-r requirements.txt (line 4)) (2.1.0)\n",
      "Requirement already satisfied: threadpoolctl>=2.0.0 in /home/mateo/.local/lib/python3.10/site-packages (from scikit-learn->-r requirements.txt (line 6)) (3.5.0)\n",
      "Requirement already satisfied: scipy>=1.6.0 in /home/mateo/.local/lib/python3.10/site-packages (from scikit-learn->-r requirements.txt (line 6)) (1.13.0)\n",
      "Requirement already satisfied: joblib>=1.2.0 in /home/mateo/.local/lib/python3.10/site-packages (from scikit-learn->-r requirements.txt (line 6)) (1.4.2)\n",
      "Requirement already satisfied: wheel<1.0,>=0.23.0 in /usr/lib/python3/dist-packages (from astunparse>=1.6.0->tensorflow->-r requirements.txt (line 4)) (0.37.1)\n",
      "Requirement already satisfied: frozenlist>=1.1.1 in /home/mateo/.local/lib/python3.10/site-packages (from aiohttp->datasets->-r requirements.txt (line 2)) (1.4.1)\n",
      "Requirement already satisfied: multidict<7.0,>=4.5 in /home/mateo/.local/lib/python3.10/site-packages (from aiohttp->datasets->-r requirements.txt (line 2)) (6.0.5)\n",
      "Requirement already satisfied: attrs>=17.3.0 in /home/mateo/.local/lib/python3.10/site-packages (from aiohttp->datasets->-r requirements.txt (line 2)) (23.2.0)\n",
      "Requirement already satisfied: yarl<2.0,>=1.0 in /home/mateo/.local/lib/python3.10/site-packages (from aiohttp->datasets->-r requirements.txt (line 2)) (1.9.4)\n",
      "Requirement already satisfied: aiosignal>=1.1.2 in /home/mateo/.local/lib/python3.10/site-packages (from aiohttp->datasets->-r requirements.txt (line 2)) (1.3.1)\n",
      "Requirement already satisfied: async-timeout<5.0,>=4.0 in /home/mateo/.local/lib/python3.10/site-packages (from aiohttp->datasets->-r requirements.txt (line 2)) (4.0.3)\n",
      "Requirement already satisfied: optree in /home/mateo/.local/lib/python3.10/site-packages (from keras>=3.0.0->tensorflow->-r requirements.txt (line 4)) (0.11.0)\n",
      "Requirement already satisfied: namex in /home/mateo/.local/lib/python3.10/site-packages (from keras>=3.0.0->tensorflow->-r requirements.txt (line 4)) (0.0.8)\n",
      "Requirement already satisfied: rich in /home/mateo/.local/lib/python3.10/site-packages (from keras>=3.0.0->tensorflow->-r requirements.txt (line 4)) (13.7.1)\n",
      "Requirement already satisfied: idna<4,>=2.5 in /home/mateo/.local/lib/python3.10/site-packages (from requests>=2.32.1->datasets->-r requirements.txt (line 2)) (3.7)\n",
      "Requirement already satisfied: certifi>=2017.4.17 in /home/mateo/.local/lib/python3.10/site-packages (from requests>=2.32.1->datasets->-r requirements.txt (line 2)) (2024.2.2)\n",
      "Requirement already satisfied: urllib3<3,>=1.21.1 in /home/mateo/.local/lib/python3.10/site-packages (from requests>=2.32.1->datasets->-r requirements.txt (line 2)) (2.2.1)\n",
      "Requirement already satisfied: charset-normalizer<4,>=2 in /home/mateo/.local/lib/python3.10/site-packages (from requests>=2.32.1->datasets->-r requirements.txt (line 2)) (3.3.2)\n",
      "Requirement already satisfied: markdown>=2.6.8 in /home/mateo/.local/lib/python3.10/site-packages (from tensorboard<2.17,>=2.16->tensorflow->-r requirements.txt (line 4)) (3.6)\n",
      "Requirement already satisfied: werkzeug>=1.0.1 in /home/mateo/.local/lib/python3.10/site-packages (from tensorboard<2.17,>=2.16->tensorflow->-r requirements.txt (line 4)) (3.0.3)\n",
      "Requirement already satisfied: tensorboard-data-server<0.8.0,>=0.7.0 in /home/mateo/.local/lib/python3.10/site-packages (from tensorboard<2.17,>=2.16->tensorflow->-r requirements.txt (line 4)) (0.7.2)\n",
      "Requirement already satisfied: MarkupSafe>=2.0 in /home/mateo/.local/lib/python3.10/site-packages (from jinja2->torch->-r requirements.txt (line 1)) (2.1.5)\n",
      "Requirement already satisfied: pytz>=2020.1 in /home/mateo/.local/lib/python3.10/site-packages (from pandas->datasets->-r requirements.txt (line 2)) (2024.1)\n",
      "Requirement already satisfied: python-dateutil>=2.8.2 in /home/mateo/.local/lib/python3.10/site-packages (from pandas->datasets->-r requirements.txt (line 2)) (2.9.0.post0)\n",
      "Requirement already satisfied: tzdata>=2022.7 in /home/mateo/.local/lib/python3.10/site-packages (from pandas->datasets->-r requirements.txt (line 2)) (2024.1)\n",
      "Requirement already satisfied: mpmath<1.4.0,>=1.1.0 in /home/mateo/.local/lib/python3.10/site-packages (from sympy->torch->-r requirements.txt (line 1)) (1.3.0)\n",
      "Requirement already satisfied: pygments<3.0.0,>=2.13.0 in /home/mateo/.local/lib/python3.10/site-packages (from rich->keras>=3.0.0->tensorflow->-r requirements.txt (line 4)) (2.18.0)\n",
      "Requirement already satisfied: markdown-it-py>=2.2.0 in /home/mateo/.local/lib/python3.10/site-packages (from rich->keras>=3.0.0->tensorflow->-r requirements.txt (line 4)) (3.0.0)\n",
      "Requirement already satisfied: mdurl~=0.1 in /home/mateo/.local/lib/python3.10/site-packages (from markdown-it-py>=2.2.0->rich->keras>=3.0.0->tensorflow->-r requirements.txt (line 4)) (0.1.2)\n",
      "Note: you may need to restart the kernel to use updated packages.\n"
     ]
    }
   ],
   "source": [
    "# Install required libraries\n",
    "%pip install -r requirements.txt"
   ]
  },
  {
   "cell_type": "markdown",
   "id": "ac94d8ae",
   "metadata": {},
   "source": [
    "## Step 1: Load the Dataset"
   ]
  },
  {
   "cell_type": "code",
   "execution_count": 2,
   "id": "9566768e",
   "metadata": {},
   "outputs": [
    {
     "name": "stderr",
     "output_type": "stream",
     "text": [
      "/home/mateo/.local/lib/python3.10/site-packages/tqdm/auto.py:21: TqdmWarning: IProgress not found. Please update jupyter and ipywidgets. See https://ipywidgets.readthedocs.io/en/stable/user_install.html\n",
      "  from .autonotebook import tqdm as notebook_tqdm\n"
     ]
    }
   ],
   "source": [
    "from datasets import load_dataset\n",
    "import numpy as np\n",
    "\n",
    "# Load the dataset\n",
    "dataset = load_dataset(\"matthieulel/galaxy10_decals\")\n",
    "images = np.stack(dataset['train']['image']) / 255.0\n",
    "labels = np.array(dataset['train']['label'])"
   ]
  },
  {
   "cell_type": "markdown",
   "id": "22da2979",
   "metadata": {},
   "source": [
    "## Step 2: Preprocess the Data"
   ]
  },
  {
   "cell_type": "code",
   "execution_count": null,
   "id": "c833418e",
   "metadata": {},
   "outputs": [],
   "source": [
    "from sklearn.model_selection import train_test_split\n",
    "\n",
    "# Split the dataset into training and testing sets\n",
    "train_images, test_images, train_labels, test_labels = train_test_split(images, labels, test_size=0.2, random_state=42)"
   ]
  },
  {
   "cell_type": "markdown",
   "id": "84b95e57",
   "metadata": {},
   "source": [
    "## Step 3: Build the Model"
   ]
  },
  {
   "cell_type": "code",
   "execution_count": null,
   "id": "7a5c5e70",
   "metadata": {},
   "outputs": [],
   "source": [
    "import tensorflow as tf\n",
    "from tensorflow.keras import layers, models\n",
    "\n",
    "# Build the convolutional neural network model\n",
    "model = models.Sequential([\n",
    "    layers.Conv2D(32, (3, 3), activation='relu', input_shape=(69, 69, 3)),\n",
    "    layers.MaxPooling2D((2, 2)),\n",
    "    layers.Conv2D(64, (3, 3), activation='relu'),\n",
    "    layers.MaxPooling2D((2, 2)),\n",
    "    layers.Conv2D(64, (3, 3), activation='relu'),\n",
    "    layers.Flatten(),\n",
    "    layers.Dense(64, activation='relu'),\n",
    "    layers.Dense(10, activation='softmax')\n",
    "])\n",
    "\n",
    "model.compile(optimizer='adam',\n",
    "              loss='sparse_categorical_crossentropy',\n",
    "              metrics=['accuracy'])"
   ]
  },
  {
   "cell_type": "markdown",
   "id": "5c680a70",
   "metadata": {},
   "source": [
    "## Step 4: Train the Model"
   ]
  },
  {
   "cell_type": "code",
   "execution_count": null,
   "id": "40168105",
   "metadata": {},
   "outputs": [],
   "source": [
    "# Train the model\n",
    "history = model.fit(train_images, train_labels, epochs=10, validation_data=(test_images, test_labels))"
   ]
  },
  {
   "cell_type": "markdown",
   "id": "1412e023",
   "metadata": {},
   "source": [
    "## Step 5: Evaluate the Model"
   ]
  },
  {
   "cell_type": "code",
   "execution_count": null,
   "id": "48263120",
   "metadata": {},
   "outputs": [],
   "source": [
    "# Evaluate the model\n",
    "test_loss, test_acc = model.evaluate(test_images, test_labels)\n",
    "print(f\"Test Accuracy: {test_acc*100:.2f}%\")"
   ]
  }
 ],
 "metadata": {
  "kernelspec": {
   "display_name": "Python 3",
   "language": "python",
   "name": "python3"
  },
  "language_info": {
   "codemirror_mode": {
    "name": "ipython",
    "version": 3
   },
   "file_extension": ".py",
   "mimetype": "text/x-python",
   "name": "python",
   "nbconvert_exporter": "python",
   "pygments_lexer": "ipython3",
   "version": "3.10.12"
  }
 },
 "nbformat": 4,
 "nbformat_minor": 5
}
